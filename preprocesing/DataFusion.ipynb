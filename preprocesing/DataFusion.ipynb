{
 "cells": [
  {
   "cell_type": "code",
   "execution_count": 1,
   "metadata": {},
   "outputs": [
    {
     "data": {
      "text/html": [
       "<div>\n",
       "<style scoped>\n",
       "    .dataframe tbody tr th:only-of-type {\n",
       "        vertical-align: middle;\n",
       "    }\n",
       "\n",
       "    .dataframe tbody tr th {\n",
       "        vertical-align: top;\n",
       "    }\n",
       "\n",
       "    .dataframe thead th {\n",
       "        text-align: right;\n",
       "    }\n",
       "</style>\n",
       "<table border=\"1\" class=\"dataframe\">\n",
       "  <thead>\n",
       "    <tr style=\"text-align: right;\">\n",
       "      <th></th>\n",
       "      <th>0</th>\n",
       "      <th>1</th>\n",
       "      <th>2</th>\n",
       "      <th>3</th>\n",
       "      <th>4</th>\n",
       "      <th>5</th>\n",
       "      <th>6</th>\n",
       "      <th>7</th>\n",
       "      <th>8</th>\n",
       "      <th>9</th>\n",
       "      <th>...</th>\n",
       "      <th>340</th>\n",
       "      <th>341</th>\n",
       "      <th>342</th>\n",
       "      <th>343</th>\n",
       "      <th>344</th>\n",
       "      <th>345</th>\n",
       "      <th>346</th>\n",
       "      <th>347</th>\n",
       "      <th>348</th>\n",
       "      <th>349</th>\n",
       "    </tr>\n",
       "  </thead>\n",
       "  <tbody>\n",
       "    <tr>\n",
       "      <td>0</td>\n",
       "      <td>6.060894</td>\n",
       "      <td>2.020155</td>\n",
       "      <td>-2.471417</td>\n",
       "      <td>-6.335487</td>\n",
       "      <td>-8.651664</td>\n",
       "      <td>-9.208978</td>\n",
       "      <td>-8.527253</td>\n",
       "      <td>-7.334837</td>\n",
       "      <td>-6.054755</td>\n",
       "      <td>-4.663051</td>\n",
       "      <td>...</td>\n",
       "      <td>-4.949874</td>\n",
       "      <td>-3.000763</td>\n",
       "      <td>0.052352</td>\n",
       "      <td>3.695411</td>\n",
       "      <td>7.321965</td>\n",
       "      <td>10.175663</td>\n",
       "      <td>11.565624</td>\n",
       "      <td>11.422439</td>\n",
       "      <td>10.442608</td>\n",
       "      <td>9.612968</td>\n",
       "    </tr>\n",
       "    <tr>\n",
       "      <td>1</td>\n",
       "      <td>-22.619986</td>\n",
       "      <td>-19.652071</td>\n",
       "      <td>-15.642263</td>\n",
       "      <td>-11.212227</td>\n",
       "      <td>-6.964636</td>\n",
       "      <td>-3.551682</td>\n",
       "      <td>-1.496162</td>\n",
       "      <td>-0.835045</td>\n",
       "      <td>-1.097958</td>\n",
       "      <td>-1.605899</td>\n",
       "      <td>...</td>\n",
       "      <td>0.107718</td>\n",
       "      <td>-3.673522</td>\n",
       "      <td>-8.162715</td>\n",
       "      <td>-11.638025</td>\n",
       "      <td>-13.069181</td>\n",
       "      <td>-12.401001</td>\n",
       "      <td>-10.145221</td>\n",
       "      <td>-7.072012</td>\n",
       "      <td>-4.134705</td>\n",
       "      <td>-2.289782</td>\n",
       "    </tr>\n",
       "    <tr>\n",
       "      <td>2</td>\n",
       "      <td>7.226775</td>\n",
       "      <td>9.026947</td>\n",
       "      <td>9.526222</td>\n",
       "      <td>8.981895</td>\n",
       "      <td>8.062214</td>\n",
       "      <td>7.624712</td>\n",
       "      <td>8.218971</td>\n",
       "      <td>9.527496</td>\n",
       "      <td>10.419319</td>\n",
       "      <td>9.701370</td>\n",
       "      <td>...</td>\n",
       "      <td>1.643959</td>\n",
       "      <td>3.345670</td>\n",
       "      <td>5.157772</td>\n",
       "      <td>6.189734</td>\n",
       "      <td>5.827455</td>\n",
       "      <td>4.120317</td>\n",
       "      <td>1.678957</td>\n",
       "      <td>-0.816257</td>\n",
       "      <td>-3.019837</td>\n",
       "      <td>-4.768120</td>\n",
       "    </tr>\n",
       "    <tr>\n",
       "      <td>3</td>\n",
       "      <td>-2.097013</td>\n",
       "      <td>-4.875274</td>\n",
       "      <td>-7.269309</td>\n",
       "      <td>-9.029065</td>\n",
       "      <td>-10.046544</td>\n",
       "      <td>-10.300261</td>\n",
       "      <td>-9.946506</td>\n",
       "      <td>-9.392306</td>\n",
       "      <td>-8.896109</td>\n",
       "      <td>-8.059999</td>\n",
       "      <td>...</td>\n",
       "      <td>-9.851971</td>\n",
       "      <td>-8.949843</td>\n",
       "      <td>-7.883143</td>\n",
       "      <td>-7.033097</td>\n",
       "      <td>-6.468213</td>\n",
       "      <td>-6.081760</td>\n",
       "      <td>-5.761024</td>\n",
       "      <td>-5.309257</td>\n",
       "      <td>-4.390216</td>\n",
       "      <td>-2.787989</td>\n",
       "    </tr>\n",
       "    <tr>\n",
       "      <td>4</td>\n",
       "      <td>19.964323</td>\n",
       "      <td>19.624012</td>\n",
       "      <td>16.223104</td>\n",
       "      <td>9.835667</td>\n",
       "      <td>1.551697</td>\n",
       "      <td>-6.822431</td>\n",
       "      <td>-13.412330</td>\n",
       "      <td>-16.904324</td>\n",
       "      <td>-16.843220</td>\n",
       "      <td>-13.724347</td>\n",
       "      <td>...</td>\n",
       "      <td>11.340281</td>\n",
       "      <td>10.642915</td>\n",
       "      <td>9.067357</td>\n",
       "      <td>7.589876</td>\n",
       "      <td>7.055655</td>\n",
       "      <td>7.538763</td>\n",
       "      <td>8.504120</td>\n",
       "      <td>9.415252</td>\n",
       "      <td>9.937079</td>\n",
       "      <td>9.794128</td>\n",
       "    </tr>\n",
       "    <tr>\n",
       "      <td>...</td>\n",
       "      <td>...</td>\n",
       "      <td>...</td>\n",
       "      <td>...</td>\n",
       "      <td>...</td>\n",
       "      <td>...</td>\n",
       "      <td>...</td>\n",
       "      <td>...</td>\n",
       "      <td>...</td>\n",
       "      <td>...</td>\n",
       "      <td>...</td>\n",
       "      <td>...</td>\n",
       "      <td>...</td>\n",
       "      <td>...</td>\n",
       "      <td>...</td>\n",
       "      <td>...</td>\n",
       "      <td>...</td>\n",
       "      <td>...</td>\n",
       "      <td>...</td>\n",
       "      <td>...</td>\n",
       "      <td>...</td>\n",
       "      <td>...</td>\n",
       "    </tr>\n",
       "    <tr>\n",
       "      <td>1595</td>\n",
       "      <td>-0.659203</td>\n",
       "      <td>2.588018</td>\n",
       "      <td>5.756881</td>\n",
       "      <td>8.365111</td>\n",
       "      <td>10.190948</td>\n",
       "      <td>11.356114</td>\n",
       "      <td>12.183657</td>\n",
       "      <td>13.071853</td>\n",
       "      <td>14.275414</td>\n",
       "      <td>15.634806</td>\n",
       "      <td>...</td>\n",
       "      <td>0.610413</td>\n",
       "      <td>-0.987364</td>\n",
       "      <td>-1.503714</td>\n",
       "      <td>-1.639211</td>\n",
       "      <td>-2.074256</td>\n",
       "      <td>-3.081018</td>\n",
       "      <td>-4.457056</td>\n",
       "      <td>-5.712995</td>\n",
       "      <td>-6.297417</td>\n",
       "      <td>-5.814818</td>\n",
       "    </tr>\n",
       "    <tr>\n",
       "      <td>1596</td>\n",
       "      <td>8.967686</td>\n",
       "      <td>3.156121</td>\n",
       "      <td>-2.587603</td>\n",
       "      <td>-7.048267</td>\n",
       "      <td>-9.424202</td>\n",
       "      <td>-9.630858</td>\n",
       "      <td>-8.387872</td>\n",
       "      <td>-6.823889</td>\n",
       "      <td>-5.811372</td>\n",
       "      <td>-5.590260</td>\n",
       "      <td>...</td>\n",
       "      <td>-2.024822</td>\n",
       "      <td>-6.018083</td>\n",
       "      <td>-9.945914</td>\n",
       "      <td>-12.498307</td>\n",
       "      <td>-12.762943</td>\n",
       "      <td>-10.699965</td>\n",
       "      <td>-7.178440</td>\n",
       "      <td>-3.531394</td>\n",
       "      <td>-0.885527</td>\n",
       "      <td>0.173455</td>\n",
       "    </tr>\n",
       "    <tr>\n",
       "      <td>1597</td>\n",
       "      <td>-13.445071</td>\n",
       "      <td>-10.586889</td>\n",
       "      <td>-5.408081</td>\n",
       "      <td>1.186841</td>\n",
       "      <td>7.763480</td>\n",
       "      <td>12.392667</td>\n",
       "      <td>13.262978</td>\n",
       "      <td>9.830499</td>\n",
       "      <td>3.478669</td>\n",
       "      <td>-3.096456</td>\n",
       "      <td>...</td>\n",
       "      <td>3.586265</td>\n",
       "      <td>4.009148</td>\n",
       "      <td>5.207397</td>\n",
       "      <td>7.102548</td>\n",
       "      <td>9.149606</td>\n",
       "      <td>10.722682</td>\n",
       "      <td>11.468576</td>\n",
       "      <td>11.343890</td>\n",
       "      <td>10.508514</td>\n",
       "      <td>9.263807</td>\n",
       "    </tr>\n",
       "    <tr>\n",
       "      <td>1598</td>\n",
       "      <td>5.004368</td>\n",
       "      <td>0.932540</td>\n",
       "      <td>-1.943087</td>\n",
       "      <td>-3.581613</td>\n",
       "      <td>-3.975639</td>\n",
       "      <td>-2.990930</td>\n",
       "      <td>-0.635156</td>\n",
       "      <td>2.669536</td>\n",
       "      <td>6.279947</td>\n",
       "      <td>9.837334</td>\n",
       "      <td>...</td>\n",
       "      <td>7.847618</td>\n",
       "      <td>8.767364</td>\n",
       "      <td>9.056504</td>\n",
       "      <td>8.818357</td>\n",
       "      <td>8.328036</td>\n",
       "      <td>7.897739</td>\n",
       "      <td>7.429546</td>\n",
       "      <td>6.296103</td>\n",
       "      <td>3.855014</td>\n",
       "      <td>0.254553</td>\n",
       "    </tr>\n",
       "    <tr>\n",
       "      <td>1599</td>\n",
       "      <td>-15.515271</td>\n",
       "      <td>-5.469550</td>\n",
       "      <td>3.108542</td>\n",
       "      <td>9.145597</td>\n",
       "      <td>12.225266</td>\n",
       "      <td>12.700190</td>\n",
       "      <td>11.441713</td>\n",
       "      <td>9.320157</td>\n",
       "      <td>6.747602</td>\n",
       "      <td>3.555252</td>\n",
       "      <td>...</td>\n",
       "      <td>-18.654640</td>\n",
       "      <td>-14.099971</td>\n",
       "      <td>-8.657177</td>\n",
       "      <td>-3.327286</td>\n",
       "      <td>0.918421</td>\n",
       "      <td>3.423136</td>\n",
       "      <td>4.104767</td>\n",
       "      <td>3.380548</td>\n",
       "      <td>1.900412</td>\n",
       "      <td>0.503962</td>\n",
       "    </tr>\n",
       "  </tbody>\n",
       "</table>\n",
       "<p>1600 rows × 350 columns</p>\n",
       "</div>"
      ],
      "text/plain": [
       "            0          1          2          3          4          5    \\\n",
       "0      6.060894   2.020155  -2.471417  -6.335487  -8.651664  -9.208978   \n",
       "1    -22.619986 -19.652071 -15.642263 -11.212227  -6.964636  -3.551682   \n",
       "2      7.226775   9.026947   9.526222   8.981895   8.062214   7.624712   \n",
       "3     -2.097013  -4.875274  -7.269309  -9.029065 -10.046544 -10.300261   \n",
       "4     19.964323  19.624012  16.223104   9.835667   1.551697  -6.822431   \n",
       "...         ...        ...        ...        ...        ...        ...   \n",
       "1595  -0.659203   2.588018   5.756881   8.365111  10.190948  11.356114   \n",
       "1596   8.967686   3.156121  -2.587603  -7.048267  -9.424202  -9.630858   \n",
       "1597 -13.445071 -10.586889  -5.408081   1.186841   7.763480  12.392667   \n",
       "1598   5.004368   0.932540  -1.943087  -3.581613  -3.975639  -2.990930   \n",
       "1599 -15.515271  -5.469550   3.108542   9.145597  12.225266  12.700190   \n",
       "\n",
       "            6          7          8          9    ...        340        341  \\\n",
       "0     -8.527253  -7.334837  -6.054755  -4.663051  ...  -4.949874  -3.000763   \n",
       "1     -1.496162  -0.835045  -1.097958  -1.605899  ...   0.107718  -3.673522   \n",
       "2      8.218971   9.527496  10.419319   9.701370  ...   1.643959   3.345670   \n",
       "3     -9.946506  -9.392306  -8.896109  -8.059999  ...  -9.851971  -8.949843   \n",
       "4    -13.412330 -16.904324 -16.843220 -13.724347  ...  11.340281  10.642915   \n",
       "...         ...        ...        ...        ...  ...        ...        ...   \n",
       "1595  12.183657  13.071853  14.275414  15.634806  ...   0.610413  -0.987364   \n",
       "1596  -8.387872  -6.823889  -5.811372  -5.590260  ...  -2.024822  -6.018083   \n",
       "1597  13.262978   9.830499   3.478669  -3.096456  ...   3.586265   4.009148   \n",
       "1598  -0.635156   2.669536   6.279947   9.837334  ...   7.847618   8.767364   \n",
       "1599  11.441713   9.320157   6.747602   3.555252  ... -18.654640 -14.099971   \n",
       "\n",
       "           342        343        344        345        346        347  \\\n",
       "0     0.052352   3.695411   7.321965  10.175663  11.565624  11.422439   \n",
       "1    -8.162715 -11.638025 -13.069181 -12.401001 -10.145221  -7.072012   \n",
       "2     5.157772   6.189734   5.827455   4.120317   1.678957  -0.816257   \n",
       "3    -7.883143  -7.033097  -6.468213  -6.081760  -5.761024  -5.309257   \n",
       "4     9.067357   7.589876   7.055655   7.538763   8.504120   9.415252   \n",
       "...        ...        ...        ...        ...        ...        ...   \n",
       "1595 -1.503714  -1.639211  -2.074256  -3.081018  -4.457056  -5.712995   \n",
       "1596 -9.945914 -12.498307 -12.762943 -10.699965  -7.178440  -3.531394   \n",
       "1597  5.207397   7.102548   9.149606  10.722682  11.468576  11.343890   \n",
       "1598  9.056504   8.818357   8.328036   7.897739   7.429546   6.296103   \n",
       "1599 -8.657177  -3.327286   0.918421   3.423136   4.104767   3.380548   \n",
       "\n",
       "            348       349  \n",
       "0     10.442608  9.612968  \n",
       "1     -4.134705 -2.289782  \n",
       "2     -3.019837 -4.768120  \n",
       "3     -4.390216 -2.787989  \n",
       "4      9.937079  9.794128  \n",
       "...         ...       ...  \n",
       "1595  -6.297417 -5.814818  \n",
       "1596  -0.885527  0.173455  \n",
       "1597  10.508514  9.263807  \n",
       "1598   3.855014  0.254553  \n",
       "1599   1.900412  0.503962  \n",
       "\n",
       "[1600 rows x 350 columns]"
      ]
     },
     "execution_count": 1,
     "metadata": {},
     "output_type": "execute_result"
    }
   ],
   "source": [
    "import scipy.io\n",
    "import pandas as pd\n",
    "\n",
    "x = scipy.io.loadmat('SBJ01/SBJ01/S01/Train/trainData.mat')\n",
    "data = pd.DataFrame(x['trainData'][1]).T\n",
    "data"
   ]
  },
  {
   "cell_type": "markdown",
   "metadata": {},
   "source": [
    "# How does the Wavelet Transform work?\n",
    "* The Fourier Transform uses a series of sine-waves with different frequencies to analyze a signal. That is, a signal is represented through a linear combination of sine-waves. The Wavelet Transform uses a series of functions called wavelets, each with a different scale. The word wavelet means a small wave, and this is exactly what a wavelet is.\n",
    "* The main difference is that the sine-wave is not localized in time (it stretches out from -infinity to +infinity) while a wavelet is localized in time. This allows the wavelet transform to obtain time-information in addition to frequency information.\n",
    "\n",
    "* Since the Wavelet is localized in time, we can multiply our signal with the wavelet at different locations in time. We start with the beginning of our signal and slowly move the wavelet towards the end of the signal. This procedure is also known as a convolution. After we have done this for the original (mother) wavelet, we can scale it such that it becomes larger and repeat the process."
   ]
  },
  {
   "cell_type": "markdown",
   "metadata": {},
   "source": [
    "![title](Shema.png)"
   ]
  },
  {
   "cell_type": "markdown",
   "metadata": {},
   "source": [
    "# CWT on sine wave"
   ]
  },
  {
   "cell_type": "code",
   "execution_count": 2,
   "metadata": {},
   "outputs": [
    {
     "data": {
      "image/png": "[encoded data removed]",
      "text/plain": [
       "<Figure size 432x288 with 1 Axes>"
      ]
     },
     "metadata": {
      "needs_background": "light"
     },
     "output_type": "display_data"
    }
   ],
   "source": [
    "%matplotlib inline\n",
    "import pywt\n",
    "import numpy as np\n",
    "import matplotlib.pyplot as plt\n",
    "x = np.arange(512)\n",
    "y = np.sin(2*np.pi*x/32)\n",
    "coef, freqs=pywt.cwt(y,np.arange(1,20),'gaus1')\n",
    "plt.pcolormesh(coef) # doctest: +SKIP\n",
    "plt.show() # doctest: +SKIP"
   ]
  },
  {
   "cell_type": "code",
   "execution_count": 3,
   "metadata": {},
   "outputs": [
    {
     "name": "stdout",
     "output_type": "stream",
     "text": [
      "(2400, 350, 8)\n",
      "(1600, 350, 8)\n"
     ]
    }
   ],
   "source": [
    "import scipy.io\n",
    "import pandas as pd\n",
    "\n",
    "testData = scipy.io.loadmat('SBJ01/SBJ01/S01/Test/testData.mat')\n",
    "print(testData['testData'].T.shape)\n",
    "\n",
    "trainData = scipy.io.loadmat(\"SBJ01/SBJ01/S01/Train/trainData.mat\")\n",
    "print(trainData['trainData'].T.shape)\n"
   ]
  },
  {
   "cell_type": "code",
   "execution_count": 4,
   "metadata": {},
   "outputs": [],
   "source": [
    "singnalTrain = trainData['trainData'].T\n",
    "signalTest = testData['testData'].T"
   ]
  },
  {
   "cell_type": "code",
   "execution_count": 65,
   "metadata": {},
   "outputs": [
    {
     "data": {
      "text/plain": [
       "(1600, 350, 8)"
      ]
     },
     "execution_count": 65,
     "metadata": {},
     "output_type": "execute_result"
    }
   ],
   "source": [
    "singnalTrain.shape"
   ]
  },
  {
   "cell_type": "code",
   "execution_count": 5,
   "metadata": {},
   "outputs": [
    {
     "name": "stdout",
     "output_type": "stream",
     "text": [
      "      0\n",
      "0     0\n",
      "1     0\n",
      "2     0\n",
      "3     0\n",
      "4     1\n",
      "...  ..\n",
      "1595  0\n",
      "1596  0\n",
      "1597  0\n",
      "1598  0\n",
      "1599  0\n",
      "\n",
      "[1600 rows x 1 columns]\n"
     ]
    }
   ],
   "source": [
    "indexTrain = pd.read_csv('SBJ01/SBJ01/S01/Train/trainTargets.txt', header=None)\n",
    "print(indexTrain)"
   ]
  },
  {
   "cell_type": "code",
   "execution_count": 42,
   "metadata": {},
   "outputs": [],
   "source": [
    "trainLabels = indexTrain.head(800)"
   ]
  },
  {
   "cell_type": "code",
   "execution_count": 49,
   "metadata": {},
   "outputs": [
    {
     "name": "stdout",
     "output_type": "stream",
     "text": [
      "(800, 1)\n"
     ]
    }
   ],
   "source": [
    "print(trainLabels.shape)"
   ]
  },
  {
   "cell_type": "markdown",
   "metadata": {},
   "source": [
    "# Applying the CWT on the dataset and transforming the data to the right format\n",
    "* Since each signal has eight components, each signal will also have eight scaleograms. So the next question to ask is, how do we feed this set of eight scaleograms into a Convolutional Neural Network? There are several options we could follow:\n",
    "\n",
    "* Train a CNN for each component separately and combine the results of the eight CNN’s in some sort of an ensembling method. I suspect that this will generally result in a poorer performance since the inter dependencies between the different components are not taken into account.\n",
    "* Concatenate the eight different signals into one long signal and apply the CWT on the concatenated signal. This could work but there will be discontinuities at location where two signals are concatenated and this will introduced noise in the scaleogram at the boundary locations of the component signals.\n",
    "* Calculate the CWT first and thén concatenate the eight different CWT images into one and feed that into the CNN. This could also work, but here there will also be discontinuities at the boundaries of the CWT images which will feed noise into the CNN. If the CNN is deep enough, it will be able to distinguish between these noisy parts and actually useful parts of the image and choose to ignore the noise. But I still prefer option number four:\n",
    "* Place the eight scaleograms on top of each other and create one single image with eight channels. What does this mean? Well, normally an image has either one channel (grayscale image) or three channels (color image), but our CNN can just as easily handle images with eight channels. The way the CNN works remains exactly the same, the only difference is that there will be three times more filters compared to an RGB image."
   ]
  },
  {
   "cell_type": "code",
   "execution_count": 17,
   "metadata": {},
   "outputs": [
    {
     "name": "stdout",
     "output_type": "stream",
     "text": [
      "0\n",
      "0\n",
      "100\n"
     ]
    }
   ],
   "source": [
    "scales = range(1, 151)\n",
    "waveletname = 'morl'\n",
    "train_size = 800\n",
    "test_size= 200\n",
    "\n",
    "train_data_cwt = np.ndarray(shape=(train_size, 150, 150, 8))\n",
    "\n",
    "for ii in range(0,train_size):\n",
    "    if ii % 1000 == 0:\n",
    "        print(ii)\n",
    "    for jj in range(0,8):\n",
    "        signal = singnalTrain[ii, :, jj]\n",
    "        coeff, freq = pywt.cwt(signal, scales, waveletname, 1)\n",
    "        coeff_ = coeff[:,:150]\n",
    "        train_data_cwt[ii, :, :, jj] = coeff_\n",
    "\n",
    "test_data_cwt = np.ndarray(shape=(test_size, 150, 150, 8))\n",
    "for ii in range(0,test_size):\n",
    "    if ii % 100 == 0:\n",
    "        print(ii)\n",
    "    for jj in range(0,8):\n",
    "        signal = signalTest[ii, :, jj]\n",
    "        coeff, freq = pywt.cwt(signal, scales, waveletname, 1)\n",
    "        coeff_ = coeff[:,:150]\n",
    "        test_data_cwt[ii, :, :, jj] = coeff_\n",
    "\n",
    "labels_train = list(indexTrain)\n",
    "\n",
    "x_trainCWT = train_data_cwt\n",
    "y_trainCWT = list(labels_train[:train_size])\n",
    "x_testCWT = test_data_cwt"
   ]
  },
  {
   "cell_type": "code",
   "execution_count": 62,
   "metadata": {},
   "outputs": [
    {
     "name": "stdout",
     "output_type": "stream",
     "text": [
      "(150, 150)\n",
      "(800, 1)\n"
     ]
    }
   ],
   "source": [
    "print(x_trainCWT[0].T[0])\n",
    "print(trainLabels.shape)"
   ]
  },
  {
   "cell_type": "code",
   "execution_count": 63,
   "metadata": {},
   "outputs": [
    {
     "data": {
      "image/png": "[encoded data removed]",
      "text/plain": [
       "<Figure size 432x288 with 1 Axes>"
      ]
     },
     "metadata": {
      "needs_background": "light"
     },
     "output_type": "display_data"
    }
   ],
   "source": [
    "%matplotlib inline\n",
    "import pywt\n",
    "import numpy as np\n",
    "import matplotlib.pyplot as plt\n",
    "fig, axs = plt.subplots(2, 2, figsize=(10, 10))\n",
    "x = np.arange(512)\n",
    "axs[0, 0].pcolormesh(x_trainCWT[0].T[0]) # doctest: +SKIP\n",
    "axs[0, 1].pcolormesh(x_trainCWT[0].T[0]) # doctest: +SKIP\n",
    "plt.show() # doctest: +SKIP"
   ]
  },
  {
   "cell_type": "code",
   "execution_count": 45,
   "metadata": {},
   "outputs": [
    {
     "name": "stdout",
     "output_type": "stream",
     "text": [
      "[[1. 0.]\n",
      " [1. 0.]\n",
      " [1. 0.]\n",
      " ...\n",
      " [1. 0.]\n",
      " [1. 0.]\n",
      " [1. 0.]]\n"
     ]
    }
   ],
   "source": [
    "from keras.utils import to_categorical\n",
    "labels = to_categorical(trainLabels)\n",
    "\n",
    "print(labels)"
   ]
  },
  {
   "cell_type": "code",
   "execution_count": 50,
   "metadata": {},
   "outputs": [
    {
     "name": "stdout",
     "output_type": "stream",
     "text": [
      "(536, 150, 150, 8)\n",
      "(536, 2)\n"
     ]
    }
   ],
   "source": [
    "print(x_train.shape)\n",
    "print(y_train.shape)"
   ]
  },
  {
   "cell_type": "code",
   "execution_count": 53,
   "metadata": {},
   "outputs": [
    {
     "ename": "ValueError",
     "evalue": "Error when checking target: expected dense_18 to have shape (2,) but got array with shape (1,)",
     "output_type": "error",
     "traceback": [
      "\u001b[1;31m---------------------------------------------------------------------------\u001b[0m",
      "\u001b[1;31mValueError\u001b[0m                                Traceback (most recent call last)",
      "\u001b[1;32m<ipython-input-53-154080e2b1f3>\u001b[0m in \u001b[0;36m<module>\u001b[1;34m\u001b[0m\n\u001b[0;32m     47\u001b[0m           \u001b[0mverbose\u001b[0m\u001b[1;33m=\u001b[0m\u001b[1;36m1\u001b[0m\u001b[1;33m,\u001b[0m\u001b[1;33m\u001b[0m\u001b[1;33m\u001b[0m\u001b[0m\n\u001b[0;32m     48\u001b[0m           \u001b[0mvalidation_data\u001b[0m\u001b[1;33m=\u001b[0m\u001b[1;33m(\u001b[0m\u001b[0mx_valid\u001b[0m\u001b[1;33m,\u001b[0m \u001b[0my_valid\u001b[0m\u001b[1;33m)\u001b[0m\u001b[1;33m,\u001b[0m\u001b[1;33m\u001b[0m\u001b[1;33m\u001b[0m\u001b[0m\n\u001b[1;32m---> 49\u001b[1;33m           callbacks=[history])\n\u001b[0m\u001b[0;32m     50\u001b[0m \u001b[1;33m\u001b[0m\u001b[0m\n\u001b[0;32m     51\u001b[0m \u001b[0mtrain_score\u001b[0m \u001b[1;33m=\u001b[0m \u001b[0mmodel\u001b[0m\u001b[1;33m.\u001b[0m\u001b[0mevaluate\u001b[0m\u001b[1;33m(\u001b[0m\u001b[0mx_train\u001b[0m\u001b[1;33m,\u001b[0m \u001b[0my_train\u001b[0m\u001b[1;33m,\u001b[0m \u001b[0mverbose\u001b[0m\u001b[1;33m=\u001b[0m\u001b[1;36m0\u001b[0m\u001b[1;33m)\u001b[0m\u001b[1;33m\u001b[0m\u001b[1;33m\u001b[0m\u001b[0m\n",
      "\u001b[1;32mC:\\ProgramData\\Anaconda3\\lib\\site-packages\\keras\\engine\\training.py\u001b[0m in \u001b[0;36mfit\u001b[1;34m(self, x, y, batch_size, epochs, verbose, callbacks, validation_split, validation_data, shuffle, class_weight, sample_weight, initial_epoch, steps_per_epoch, validation_steps, validation_freq, max_queue_size, workers, use_multiprocessing, **kwargs)\u001b[0m\n\u001b[0;32m   1173\u001b[0m                 \u001b[0mval_x\u001b[0m\u001b[1;33m,\u001b[0m \u001b[0mval_y\u001b[0m\u001b[1;33m,\u001b[0m\u001b[1;33m\u001b[0m\u001b[1;33m\u001b[0m\u001b[0m\n\u001b[0;32m   1174\u001b[0m                 \u001b[0msample_weight\u001b[0m\u001b[1;33m=\u001b[0m\u001b[0mval_sample_weight\u001b[0m\u001b[1;33m,\u001b[0m\u001b[1;33m\u001b[0m\u001b[1;33m\u001b[0m\u001b[0m\n\u001b[1;32m-> 1175\u001b[1;33m                 batch_size=batch_size)\n\u001b[0m\u001b[0;32m   1176\u001b[0m             \u001b[1;32mif\u001b[0m \u001b[0mself\u001b[0m\u001b[1;33m.\u001b[0m\u001b[0m_uses_dynamic_learning_phase\u001b[0m\u001b[1;33m(\u001b[0m\u001b[1;33m)\u001b[0m\u001b[1;33m:\u001b[0m\u001b[1;33m\u001b[0m\u001b[1;33m\u001b[0m\u001b[0m\n\u001b[0;32m   1177\u001b[0m                 \u001b[0mval_inputs\u001b[0m \u001b[1;33m=\u001b[0m \u001b[0mval_x\u001b[0m \u001b[1;33m+\u001b[0m \u001b[0mval_y\u001b[0m \u001b[1;33m+\u001b[0m \u001b[0mval_sample_weights\u001b[0m \u001b[1;33m+\u001b[0m \u001b[1;33m[\u001b[0m\u001b[1;36m0\u001b[0m\u001b[1;33m]\u001b[0m\u001b[1;33m\u001b[0m\u001b[1;33m\u001b[0m\u001b[0m\n",
      "\u001b[1;32mC:\\ProgramData\\Anaconda3\\lib\\site-packages\\keras\\engine\\training.py\u001b[0m in \u001b[0;36m_standardize_user_data\u001b[1;34m(self, x, y, sample_weight, class_weight, check_array_lengths, batch_size)\u001b[0m\n\u001b[0;32m    619\u001b[0m                 \u001b[0mfeed_output_shapes\u001b[0m\u001b[1;33m,\u001b[0m\u001b[1;33m\u001b[0m\u001b[1;33m\u001b[0m\u001b[0m\n\u001b[0;32m    620\u001b[0m                 \u001b[0mcheck_batch_axis\u001b[0m\u001b[1;33m=\u001b[0m\u001b[1;32mFalse\u001b[0m\u001b[1;33m,\u001b[0m  \u001b[1;31m# Don't enforce the batch size.\u001b[0m\u001b[1;33m\u001b[0m\u001b[1;33m\u001b[0m\u001b[0m\n\u001b[1;32m--> 621\u001b[1;33m                 exception_prefix='target')\n\u001b[0m\u001b[0;32m    622\u001b[0m \u001b[1;33m\u001b[0m\u001b[0m\n\u001b[0;32m    623\u001b[0m             \u001b[1;31m# Generate sample-wise weight values given the `sample_weight` and\u001b[0m\u001b[1;33m\u001b[0m\u001b[1;33m\u001b[0m\u001b[1;33m\u001b[0m\u001b[0m\n",
      "\u001b[1;32mC:\\ProgramData\\Anaconda3\\lib\\site-packages\\keras\\engine\\training_utils.py\u001b[0m in \u001b[0;36mstandardize_input_data\u001b[1;34m(data, names, shapes, check_batch_axis, exception_prefix)\u001b[0m\n\u001b[0;32m    143\u001b[0m                             \u001b[1;34m': expected '\u001b[0m \u001b[1;33m+\u001b[0m \u001b[0mnames\u001b[0m\u001b[1;33m[\u001b[0m\u001b[0mi\u001b[0m\u001b[1;33m]\u001b[0m \u001b[1;33m+\u001b[0m \u001b[1;34m' to have shape '\u001b[0m \u001b[1;33m+\u001b[0m\u001b[1;33m\u001b[0m\u001b[1;33m\u001b[0m\u001b[0m\n\u001b[0;32m    144\u001b[0m                             \u001b[0mstr\u001b[0m\u001b[1;33m(\u001b[0m\u001b[0mshape\u001b[0m\u001b[1;33m)\u001b[0m \u001b[1;33m+\u001b[0m \u001b[1;34m' but got array with shape '\u001b[0m \u001b[1;33m+\u001b[0m\u001b[1;33m\u001b[0m\u001b[1;33m\u001b[0m\u001b[0m\n\u001b[1;32m--> 145\u001b[1;33m                             str(data_shape))\n\u001b[0m\u001b[0;32m    146\u001b[0m     \u001b[1;32mreturn\u001b[0m \u001b[0mdata\u001b[0m\u001b[1;33m\u001b[0m\u001b[1;33m\u001b[0m\u001b[0m\n\u001b[0;32m    147\u001b[0m \u001b[1;33m\u001b[0m\u001b[0m\n",
      "\u001b[1;31mValueError\u001b[0m: Error when checking target: expected dense_18 to have shape (2,) but got array with shape (1,)"
     ]
    }
   ],
   "source": [
    "import keras\n",
    "from keras.layers import Dense, Flatten\n",
    "from keras.layers import Conv2D, MaxPooling2D\n",
    "from keras.models import Sequential\n",
    "from keras.callbacks import History \n",
    "from sklearn.model_selection import train_test_split\n",
    "\n",
    "# Split the data\n",
    "x_train, x_valid, y_train, y_valid = train_test_split(x_trainCWT, trainLabels, test_size=0.33, shuffle= True)\n",
    "history = History()\n",
    "\n",
    "\n",
    "\n",
    "img_x = 150\n",
    "img_y = 150\n",
    "img_z = 8\n",
    "input_shape = (img_x, img_y, img_z)\n",
    "\n",
    "num_classes = 2\n",
    "batch_size = 10\n",
    "num_classes = 2\n",
    "epochs = 10\n",
    "\n",
    "x_train = x_train.astype('float32')\n",
    "x_test = x_testCWT.astype('float32')\n",
    "\n",
    "y_train = keras.utils.to_categorical(y_train, num_classes)\n",
    "\n",
    "\n",
    "model = Sequential()\n",
    "model.add(Conv2D(32, kernel_size=(5, 5), strides=(1, 1),\n",
    "                 activation='relu',\n",
    "                 input_shape=input_shape))\n",
    "model.add(MaxPooling2D(pool_size=(2, 2), strides=(2, 2)))\n",
    "model.add(Conv2D(64, (5, 5), activation='relu'))\n",
    "model.add(MaxPooling2D(pool_size=(2, 2)))\n",
    "model.add(Flatten())\n",
    "model.add(Dense(1000, activation='relu'))\n",
    "model.add(Dense(num_classes, activation='softmax'))\n",
    "\n",
    "model.compile(loss=keras.losses.categorical_crossentropy,\n",
    "              optimizer=keras.optimizers.Adam(),\n",
    "              metrics=['accuracy'])\n",
    "\n",
    "\n",
    "model.fit(x_train, y_train,\n",
    "          batch_size=batch_size,\n",
    "          epochs=epochs,\n",
    "          verbose=1,\n",
    "          validation_data=(x_valid, y_valid),\n",
    "          callbacks=[history])\n",
    "\n",
    "train_score = model.evaluate(x_train, y_train, verbose=0)\n",
    "print('Train loss: {}, Train accuracy: {}'.format(train_score[0], train_score[1]))"
   ]
  },
  {
   "cell_type": "code",
   "execution_count": null,
   "metadata": {},
   "outputs": [],
   "source": []
  }
 ],
 "metadata": {
  "kernelspec": {
   "display_name": "Python 3",
   "language": "python",
   "name": "python3"
  },
  "language_info": {
   "codemirror_mode": {
    "name": "ipython",
    "version": 3
   },
   "file_extension": ".py",
   "mimetype": "text/x-python",
   "name": "python",
   "nbconvert_exporter": "python",
   "pygments_lexer": "ipython3",
   "version": "3.7.4"
  }
 },
 "nbformat": 4,
 "nbformat_minor": 4
}
